{
 "cells": [
  {
   "attachments": {},
   "cell_type": "markdown",
   "metadata": {},
   "source": [
    "# 🌎 Gradio Experimenty"
   ]
  },
  {
   "cell_type": "code",
   "execution_count": 1,
   "metadata": {
    "vscode": {
     "languageId": "python"
    }
   },
   "outputs": [],
   "source": [
    "import gradio as gr\n",
    "import numpy as np\n",
    "from transformers import pipeline\n",
    "from transformers.trainer_utils import get_last_checkpoint\n"
   ]
  },
  {
   "cell_type": "code",
   "execution_count": 2,
   "metadata": {
    "vscode": {
     "languageId": "python"
    }
   },
   "outputs": [
    {
     "name": "stdout",
     "output_type": "stream",
     "text": [
      "\"The CEDMO hub’s fact-checking activities are based on an experienced and extensive ecosystem of fact-checkers, disinformation analysts, media literacy organisations and academics who detect, analyse, and expose emerging harmful information disorders. Therefore, the project pays special attention to disinformation targeting Central European and EU issues and policies. Through a rapid-alerts network, fact-checking and investigation, reports are sent to the relevant target group (media, public institutions, civil society and government) to minimise the impact of disinformation campaigns. Immediate disinformation responses and daily fact checking is delivered by seasoned professionals of the international news agency AFP , Demagog.cz, Demagog.sk, Konkret24 and Infosecurity.sk .\"\n"
     ]
    }
   ],
   "source": [
    "import json\n",
    "\n",
    "print(json.dumps(\"\"\"The CEDMO hub’s fact-checking activities are based on an experienced and extensive ecosystem of fact-checkers, disinformation analysts, media literacy organisations and academics who detect, analyse, and expose emerging harmful information disorders. Therefore, the project pays special attention to disinformation targeting Central European and EU issues and policies. Through a rapid-alerts network, fact-checking and investigation, reports are sent to the relevant target group (media, public institutions, civil society and government) to minimise the impact of disinformation campaigns. Immediate disinformation responses and daily fact checking is delivered by seasoned professionals of the international news agency AFP , Demagog.cz, Demagog.sk, Konkret24 and Infosecurity.sk .\"\"\",ensure_ascii=False))"
   ]
  },
  {
   "cell_type": "code",
   "execution_count": 4,
   "metadata": {
    "vscode": {
     "languageId": "python"
    }
   },
   "outputs": [],
   "source": [
    "MODELS = {\n",
    "    \"🇨🇿 MBart (SumeCzech)\": \"ctu-aic/mbart-sumeczech-claim-extraction\",\n",
    "    \"🇨🇿 MBart\": \"ctu-aic/mbart25-large-eos\",\n",
    "    \"🇬🇧 T5-small (BBC)\": \"ctu-aic/t5-small-feversum\",\n",
    "    \"🇬🇧 T5-large (CNN)\": \"ctu-aic/t5-large-feversum\",\n",
    "    \"🇸🇰 mBART (CNC, SMESum)\": \"ctu-aic/mbart25-large-eos-cnc-smesum\",\n",
    "    \"🇸🇰 mT5 (SumeCzech, SMESum)\": \"ctu-aic/mt5-base-multilingual-summarization-multilarge-cs-smesum\",\n",
    "    #\"🇬🇧 Pegasus (BBC)\": \"/home/ullriher/ullriher/models/promising/t5-large-finetuned-xsum-cnn_feversum3_text2claim_bs2_ep30\",\n",
    "}"
   ]
  },
  {
   "cell_type": "code",
   "execution_count": 5,
   "metadata": {
    "vscode": {
     "languageId": "python"
    }
   },
   "outputs": [
    {
     "name": "stdout",
     "output_type": "stream",
     "text": [
      "Error loading model ctu-aic/t5-large-feversum\n"
     ]
    },
    {
     "data": {
      "application/vnd.jupyter.widget-view+json": {
       "model_id": "77d54675994840ada485255dab44aec6",
       "version_major": 2,
       "version_minor": 0
      },
      "text/plain": [
       "Downloading (…)lve/main/config.json:   0%|          | 0.00/1.52k [00:00<?, ?B/s]"
      ]
     },
     "metadata": {},
     "output_type": "display_data"
    },
    {
     "data": {
      "application/vnd.jupyter.widget-view+json": {
       "model_id": "2756c3cb89214a209f4776a884c55a16",
       "version_major": 2,
       "version_minor": 0
      },
      "text/plain": [
       "Downloading pytorch_model.bin:   0%|          | 0.00/2.44G [00:00<?, ?B/s]"
      ]
     },
     "metadata": {},
     "output_type": "display_data"
    },
    {
     "data": {
      "application/vnd.jupyter.widget-view+json": {
       "model_id": "bf011f9f2a4e4eb0978d06d37f9bd56a",
       "version_major": 2,
       "version_minor": 0
      },
      "text/plain": [
       "Downloading (…)neration_config.json:   0%|          | 0.00/170 [00:00<?, ?B/s]"
      ]
     },
     "metadata": {},
     "output_type": "display_data"
    },
    {
     "data": {
      "application/vnd.jupyter.widget-view+json": {
       "model_id": "eee0a8a96db348bda8a2e0b6c0549f4a",
       "version_major": 2,
       "version_minor": 0
      },
      "text/plain": [
       "Downloading (…)okenizer_config.json:   0%|          | 0.00/497 [00:00<?, ?B/s]"
      ]
     },
     "metadata": {},
     "output_type": "display_data"
    },
    {
     "data": {
      "application/vnd.jupyter.widget-view+json": {
       "model_id": "998140d71948470abae95b4f02e8426e",
       "version_major": 2,
       "version_minor": 0
      },
      "text/plain": [
       "Downloading (…)tencepiece.bpe.model:   0%|          | 0.00/5.07M [00:00<?, ?B/s]"
      ]
     },
     "metadata": {},
     "output_type": "display_data"
    },
    {
     "data": {
      "application/vnd.jupyter.widget-view+json": {
       "model_id": "ec07b6a13f70456b954edea680953355",
       "version_major": 2,
       "version_minor": 0
      },
      "text/plain": [
       "Downloading tokenizer.json:   0%|          | 0.00/17.1M [00:00<?, ?B/s]"
      ]
     },
     "metadata": {},
     "output_type": "display_data"
    },
    {
     "data": {
      "application/vnd.jupyter.widget-view+json": {
       "model_id": "74bc0dfbe2824e178de209cf36e12504",
       "version_major": 2,
       "version_minor": 0
      },
      "text/plain": [
       "Downloading (…)cial_tokens_map.json:   0%|          | 0.00/642 [00:00<?, ?B/s]"
      ]
     },
     "metadata": {},
     "output_type": "display_data"
    }
   ],
   "source": [
    "def get_pipeline(model_name_or_path):\n",
    "    try:\n",
    "        return pipeline(\"summarization\", model=model_name_or_path, device=\"cuda:0\")\n",
    "    except:\n",
    "        return pipeline(\"summarization\", model=get_last_checkpoint(model_name_or_path), device=\"cuda:0\")\n",
    "\n",
    "\n",
    "summarizers = {}\n",
    "for name, model in MODELS.items():\n",
    "    try:\n",
    "        summarizer = get_pipeline(model)\n",
    "        if summarizer is not None:\n",
    "            summarizers[name] = summarizer\n",
    "    except:\n",
    "        print(f\"Error loading model {model}\")\n",
    "\n",
    "\n",
    "def output_to_text(output):\n",
    "    return output[0][\"summary_text\"].replace(\"cs \", \"\").replace(\"<pad>\", \"\").replace(\"</s>\", \"\")\n",
    "\n",
    "\n",
    "def process(input, summarizer, claims=1, k=1, min_length=10, max_length=40):\n",
    "    output = [\n",
    "        output_to_text(\n",
    "            summarizers[summarizer](\n",
    "                input,\n",
    "                max_length=max_length,\n",
    "                min_length=min_length,\n",
    "                do_sample=False,\n",
    "            )\n",
    "        )\n",
    "    ]\n",
    "\n",
    "    for _ in range(claims - 1):\n",
    "        output.append(\n",
    "            output_to_text(\n",
    "                summarizers[summarizer](\n",
    "                    input, max_length=max_length, min_length=min_length, do_sample=True, top_k=k\n",
    "                )\n",
    "            )\n",
    "        )\n",
    "\n",
    "    return output\n",
    "\n",
    "\n",
    "LONG_TEXT = \"Prodej živých delfínů se řídí dohodou o mezinárodním obchodu s ohroženými druhy, která zakazuje podobné transakce, pokud by mohly zvířatům uškodit. Šalamounovy ostrovy, ležící asi 1800 kilometrů severovýchodně od Austrálie, nicméně dohodu nepodepsaly. Území je v současné době zmítáno politickou krizí a etnickými násilnostmi, kvůli nimž sem byli tento týden vysláni australští vojáci. Ekologové viní mexické podnikatele, že krize na Šalamounových ostrovech zneužili.\"\n",
    "\n",
    "# print(process(LONG_TEXT, claims=5, k=5, min_length=10, max_length=40))\n"
   ]
  },
  {
   "cell_type": "code",
   "execution_count": 6,
   "metadata": {
    "vscode": {
     "languageId": "python"
    }
   },
   "outputs": [
    {
     "name": "stderr",
     "output_type": "stream",
     "text": [
      "/home/ullriher/venvs/2023feb/lib/python3.10/site-packages/gradio/inputs.py:27: UserWarning: Usage of gradio.inputs is deprecated, and will not be supported in the future, please import your component from gradio.components\n",
      "  warnings.warn(\n",
      "/home/ullriher/venvs/2023feb/lib/python3.10/site-packages/gradio/deprecation.py:40: UserWarning: `optional` parameter is deprecated, and it has no effect\n",
      "  warnings.warn(value)\n",
      "/home/ullriher/venvs/2023feb/lib/python3.10/site-packages/gradio/deprecation.py:40: UserWarning: `numeric` parameter is deprecated, and it has no effect\n",
      "  warnings.warn(value)\n",
      "/home/ullriher/venvs/2023feb/lib/python3.10/site-packages/gradio/inputs.py:183: UserWarning: Usage of gradio.inputs is deprecated, and will not be supported in the future, please import your component from gradio.components\n",
      "  warnings.warn(\n"
     ]
    },
    {
     "name": "stdout",
     "output_type": "stream",
     "text": [
      "Running on local URL:  http://127.0.0.1:7860\n",
      "Running on public URL: https://f77bb82d75cea65268.gradio.live\n",
      "\n",
      "This share link expires in 72 hours. For free permanent hosting and GPU upgrades (NEW!), check out Spaces: https://huggingface.co/spaces\n"
     ]
    },
    {
     "name": "stderr",
     "output_type": "stream",
     "text": [
      "Unable to connect to VS Code server: Error in request.\n",
      "Error: connect ENOENT /run/user/434653/vscode-ipc-e895c7c6-9f37-489c-883b-d5398d1a4a82.sock\n",
      "    at PipeConnectWrap.afterConnect [as oncomplete] (node:net:1157:16) {\n",
      "  errno: -2,\n",
      "  code: 'ENOENT',\n",
      "  syscall: 'connect',\n",
      "  address: '/run/user/434653/vscode-ipc-e895c7c6-9f37-489c-883b-d5398d1a4a82.sock'\n",
      "}\n"
     ]
    },
    {
     "data": {
      "text/html": [
       "<div><iframe src=\"https://f77bb82d75cea65268.gradio.live\" width=\"100%\" height=\"500\" allow=\"autoplay; camera; microphone; clipboard-read; clipboard-write;\" frameborder=\"0\" allowfullscreen></iframe></div>"
      ],
      "text/plain": [
       "<IPython.core.display.HTML object>"
      ]
     },
     "metadata": {},
     "output_type": "display_data"
    },
    {
     "name": "stderr",
     "output_type": "stream",
     "text": [
      "/home/ullriher/venvs/2023feb/lib/python3.10/site-packages/transformers/pipelines/base.py:1070: UserWarning: You seem to be using the pipelines sequentially on GPU. In order to maximize efficiency please use a dataset\n",
      "  warnings.warn(\n"
     ]
    }
   ],
   "source": [
    "class MyInterface(gr.Interface):\n",
    "    def __init__(self):\n",
    "        gr.Interface.__init__(\n",
    "            self,\n",
    "            process,\n",
    "            title='Factual Claim Extraction',\n",
    "            description=\"This is a prototype CEDMO application to extract factual claims from an arbitrary text.\",\n",
    "            inputs=[\n",
    "                gr.inputs.Textbox(lines=5, label=\"Text to extract\"),\n",
    "                gr.inputs.Radio(list(summarizers.keys()), label=\"Model\", default=\"🇨🇿 MBart\"),\n",
    "                gr.Slider(1, 10, step=1, label=\"Number of claims\"),\n",
    "                gr.Slider(1, 100, 10, step=1, label=\"Amount of randomness\"),\n",
    "                gr.Slider(1, 100, 10, step=1, label=\"Min length (# tokens)\"),\n",
    "                gr.Slider(1, 100, 40, step=1, label=\"Max length (# tokens)\"),\n",
    "            ],\n",
    "            outputs=[gr.components.JSON(label=\"Claims\")],\n",
    "            theme=gr.themes.Soft(\n",
    "                primary_hue=\"yellow\"\n",
    "            ),\n",
    "        )\n",
    "    \n",
    "    def render_title_description(self) -> None:\n",
    "        if self.title:\n",
    "            gr.Markdown(\n",
    "                \"<h1 style='text-align: left; margin-bottom: .5rem;color:#3c3950'>\"\n",
    "                + '<img src=\"https://cedmohub.eu/wp-content/uploads/thegem-logos/logo_97ce70140f90745805929b382597e9b5_2x.png\" style=\"height: 2.5rem; margin-right: 1.5rem; vertical-align: middle; float:left;\"/>'\n",
    "                + self.title\n",
    "                + \"</h1>\"\n",
    "            )\n",
    "        if self.description:\n",
    "            gr.Markdown(self.description)\n",
    "    \n",
    "\n",
    "\n",
    "demo = MyInterface()\n",
    "\n",
    "if __name__ == \"__main__\":\n",
    "    demo.launch(share=True, inbrowser=True)\n"
   ]
  }
 ],
 "metadata": {
  "kernelspec": {
   "display_name": "Python 3 (ipykernel)",
   "language": "python",
   "name": "python3"
  },
  "orig_nbformat": 4
 },
 "nbformat": 4,
 "nbformat_minor": 2
}
