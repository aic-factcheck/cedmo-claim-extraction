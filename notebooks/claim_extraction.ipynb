{
 "cells": [
  {
   "attachments": {},
   "cell_type": "markdown",
   "metadata": {},
   "source": [
    "# 🌎 Gradio Experimenty"
   ]
  },
  {
   "cell_type": "code",
   "execution_count": 1,
   "metadata": {},
   "outputs": [
    {
     "name": "stdout",
     "output_type": "stream",
     "text": [
      "\"The CEDMO hub’s fact-checking activities are based on an experienced and extensive ecosystem of fact-checkers, disinformation analysts, media literacy organisations and academics who detect, analyse, and expose emerging harmful information disorders. Therefore, the project pays special attention to disinformation targeting Central European and EU issues and policies. Through a rapid-alerts network, fact-checking and investigation, reports are sent to the relevant target group (media, public institutions, civil society and government) to minimise the impact of disinformation campaigns. Immediate disinformation responses and daily fact checking is delivered by seasoned professionals of the international news agency AFP , Demagog.cz, Demagog.sk, Konkret24 and Infosecurity.sk .\"\n",
      "\u001b[31m╭─\u001b[0m\u001b[31m────────────────────\u001b[0m\u001b[31m \u001b[0m\u001b[1;31mTraceback \u001b[0m\u001b[1;2;31m(most recent call last)\u001b[0m\u001b[31m \u001b[0m\u001b[31m─────────────────────\u001b[0m\u001b[31m─╮\u001b[0m\n",
      "\u001b[31m│\u001b[0m \u001b[2;33m/home/ullriher/lib/cedmo-claim-extraction/src/\u001b[0m\u001b[1;33mgradio.py\u001b[0m:\u001b[94m1\u001b[0m in \u001b[92m<module>\u001b[0m        \u001b[31m│\u001b[0m\n",
      "\u001b[31m│\u001b[0m                                                                              \u001b[31m│\u001b[0m\n",
      "\u001b[31m│\u001b[0m \u001b[31m❱ \u001b[0m  1 \u001b[94mimport\u001b[0m \u001b[4;96mgradio\u001b[0m \u001b[94mas\u001b[0m \u001b[4;96mgr\u001b[0m                                                    \u001b[31m│\u001b[0m\n",
      "\u001b[31m│\u001b[0m   \u001b[2m  2 \u001b[0m\u001b[94mimport\u001b[0m \u001b[4;96mnumpy\u001b[0m \u001b[94mas\u001b[0m \u001b[4;96mnp\u001b[0m                                                     \u001b[31m│\u001b[0m\n",
      "\u001b[31m│\u001b[0m   \u001b[2m  3 \u001b[0m\u001b[94mfrom\u001b[0m \u001b[4;96mtransformers\u001b[0m \u001b[94mimport\u001b[0m pipeline                                      \u001b[31m│\u001b[0m\n",
      "\u001b[31m│\u001b[0m   \u001b[2m  4 \u001b[0m\u001b[94mfrom\u001b[0m \u001b[4;96mtransformers\u001b[0m\u001b[4;96m.\u001b[0m\u001b[4;96mtrainer_utils\u001b[0m \u001b[94mimport\u001b[0m get_last_checkpoint             \u001b[31m│\u001b[0m\n",
      "\u001b[31m│\u001b[0m                                                                              \u001b[31m│\u001b[0m\n",
      "\u001b[31m│\u001b[0m \u001b[2;33m/home/ullriher/lib/cedmo-claim-extraction/src/\u001b[0m\u001b[1;33mgradio.py\u001b[0m:\u001b[94m69\u001b[0m in \u001b[92m<module>\u001b[0m       \u001b[31m│\u001b[0m\n",
      "\u001b[31m│\u001b[0m                                                                              \u001b[31m│\u001b[0m\n",
      "\u001b[31m│\u001b[0m   \u001b[2m 66 \u001b[0m                                                                       \u001b[31m│\u001b[0m\n",
      "\u001b[31m│\u001b[0m   \u001b[2m 67 \u001b[0mLONG_TEXT = \u001b[33m\"\u001b[0m\u001b[33mProdej živých delfínů se řídí dohodou o mezinárodním obch\u001b[0m \u001b[31m│\u001b[0m\n",
      "\u001b[31m│\u001b[0m   \u001b[2m 68 \u001b[0m                                                                       \u001b[31m│\u001b[0m\n",
      "\u001b[31m│\u001b[0m \u001b[31m❱ \u001b[0m 69 \u001b[94mclass\u001b[0m \u001b[4;92mMyInterface\u001b[0m(gr.Interface):                                       \u001b[31m│\u001b[0m\n",
      "\u001b[31m│\u001b[0m   \u001b[2m 70 \u001b[0m\u001b[2m│   \u001b[0m\u001b[94mdef\u001b[0m \u001b[92m__init__\u001b[0m(\u001b[96mself\u001b[0m):                                                \u001b[31m│\u001b[0m\n",
      "\u001b[31m│\u001b[0m   \u001b[2m 71 \u001b[0m\u001b[2m│   │   \u001b[0mgr.Interface.\u001b[92m__init__\u001b[0m(                                         \u001b[31m│\u001b[0m\n",
      "\u001b[31m│\u001b[0m   \u001b[2m 72 \u001b[0m\u001b[2m│   │   │   \u001b[0m\u001b[96mself\u001b[0m,                                                      \u001b[31m│\u001b[0m\n",
      "\u001b[31m╰──────────────────────────────────────────────────────────────────────────────╯\u001b[0m\n",
      "\u001b[1;91mAttributeError: \u001b[0mpartially initialized module \u001b[32m'gradio'\u001b[0m has no attribute \n",
      "\u001b[32m'Interface'\u001b[0m \u001b[1m(\u001b[0mmost likely due to a circular import\u001b[1m)\u001b[0m\n"
     ]
    }
   ],
   "source": [
    "!python /home/ullriher/lib/cedmo-claim-extraction/src/gradio.py"
   ]
  },
  {
   "cell_type": "code",
   "execution_count": 1,
   "metadata": {},
   "outputs": [],
   "source": [
    "import gradio as gr\n",
    "import numpy as np\n",
    "from transformers import pipeline\n",
    "from transformers.trainer_utils import get_last_checkpoint\n"
   ]
  },
  {
   "cell_type": "code",
   "execution_count": 2,
   "metadata": {},
   "outputs": [
    {
     "name": "stdout",
     "output_type": "stream",
     "text": [
      "\"The CEDMO hub’s fact-checking activities are based on an experienced and extensive ecosystem of fact-checkers, disinformation analysts, media literacy organisations and academics who detect, analyse, and expose emerging harmful information disorders. Therefore, the project pays special attention to disinformation targeting Central European and EU issues and policies. Through a rapid-alerts network, fact-checking and investigation, reports are sent to the relevant target group (media, public institutions, civil society and government) to minimise the impact of disinformation campaigns. Immediate disinformation responses and daily fact checking is delivered by seasoned professionals of the international news agency AFP , Demagog.cz, Demagog.sk, Konkret24 and Infosecurity.sk .\"\n"
     ]
    }
   ],
   "source": [
    "import json\n",
    "\n",
    "print(json.dumps(\"\"\"The CEDMO hub’s fact-checking activities are based on an experienced and extensive ecosystem of fact-checkers, disinformation analysts, media literacy organisations and academics who detect, analyse, and expose emerging harmful information disorders. Therefore, the project pays special attention to disinformation targeting Central European and EU issues and policies. Through a rapid-alerts network, fact-checking and investigation, reports are sent to the relevant target group (media, public institutions, civil society and government) to minimise the impact of disinformation campaigns. Immediate disinformation responses and daily fact checking is delivered by seasoned professionals of the international news agency AFP , Demagog.cz, Demagog.sk, Konkret24 and Infosecurity.sk .\"\"\",ensure_ascii=False))"
   ]
  },
  {
   "cell_type": "code",
   "execution_count": 11,
   "metadata": {},
   "outputs": [],
   "source": [
    "MODELS = {\n",
    "    \"🇨🇿 MBart (SumeCzech)\": \"ctu-aic/mbart-sumeczech-claim-extraction\",\n",
    "    \"🇨🇿 MBart\": \"ctu-aic/mbart25-large-eos\",\n",
    "    \"🇬🇧 T5-small (BBC)\": \"ctu-aic/t5-small-feversum\",\n",
    "    \"🇬🇧 T5-large (CNN)\": \"ctu-aic/t5-large-feversum\",\n",
    "    #\"🇬🇧 Pegasus (BBC)\": \"/home/ullriher/ullriher/models/promising/t5-large-finetuned-xsum-cnn_feversum3_text2claim_bs2_ep30\",\n",
    "    \"🇸🇰 MBart (SlovakSum)\": \"ctu-aic/mbart-slovaksum\",\n",
    "}"
   ]
  },
  {
   "cell_type": "code",
   "execution_count": 14,
   "metadata": {},
   "outputs": [],
   "source": [
    "def get_pipeline(model_name_or_path):\n",
    "    try:\n",
    "        return pipeline(\"summarization\", model=model_name_or_path, device=\"cuda:0\")\n",
    "    except:\n",
    "        # return pipeline(\"summarization\", model=get_last_checkpoint(model_name_or_path), device=\"cuda:0\")\n",
    "        return None\n",
    "\n",
    "\n",
    "summarizers = {}\n",
    "for name, model in MODELS.items():\n",
    "    summarizer = get_pipeline(model)\n",
    "    if summarizer is not None:\n",
    "        summarizers[name] = summarizer\n",
    "\n",
    "\n",
    "def output_to_text(output):\n",
    "    return output[0][\"summary_text\"].replace(\"cs \", \"\").replace(\"<pad>\", \"\").replace(\"</s>\", \"\")\n",
    "\n",
    "\n",
    "def process(input, summarizer, claims=1, k=1, min_length=10, max_length=40):\n",
    "    output = [\n",
    "        output_to_text(\n",
    "            summarizers[summarizer](\n",
    "                input,\n",
    "                max_length=max_length,\n",
    "                min_length=min_length,\n",
    "                do_sample=False,\n",
    "            )\n",
    "        )\n",
    "    ]\n",
    "\n",
    "    for _ in range(claims - 1):\n",
    "        output.append(\n",
    "            output_to_text(\n",
    "                summarizers[summarizer](\n",
    "                    input, max_length=max_length, min_length=min_length, do_sample=True, top_k=k\n",
    "                )\n",
    "            )\n",
    "        )\n",
    "\n",
    "    return output\n",
    "\n",
    "\n",
    "LONG_TEXT = \"Prodej živých delfínů se řídí dohodou o mezinárodním obchodu s ohroženými druhy, která zakazuje podobné transakce, pokud by mohly zvířatům uškodit. Šalamounovy ostrovy, ležící asi 1800 kilometrů severovýchodně od Austrálie, nicméně dohodu nepodepsaly. Území je v současné době zmítáno politickou krizí a etnickými násilnostmi, kvůli nimž sem byli tento týden vysláni australští vojáci. Ekologové viní mexické podnikatele, že krize na Šalamounových ostrovech zneužili.\"\n",
    "\n",
    "# print(process(LONG_TEXT, claims=5, k=5, min_length=10, max_length=40))\n"
   ]
  },
  {
   "cell_type": "code",
   "execution_count": 16,
   "metadata": {},
   "outputs": [
    {
     "name": "stderr",
     "output_type": "stream",
     "text": [
      "/home/ullriher/venvs/2023feb/lib/python3.10/site-packages/gradio/inputs.py:27: UserWarning: Usage of gradio.inputs is deprecated, and will not be supported in the future, please import your component from gradio.components\n",
      "  warnings.warn(\n",
      "/home/ullriher/venvs/2023feb/lib/python3.10/site-packages/gradio/deprecation.py:40: UserWarning: `optional` parameter is deprecated, and it has no effect\n",
      "  warnings.warn(value)\n",
      "/home/ullriher/venvs/2023feb/lib/python3.10/site-packages/gradio/deprecation.py:40: UserWarning: `numeric` parameter is deprecated, and it has no effect\n",
      "  warnings.warn(value)\n",
      "/home/ullriher/venvs/2023feb/lib/python3.10/site-packages/gradio/inputs.py:183: UserWarning: Usage of gradio.inputs is deprecated, and will not be supported in the future, please import your component from gradio.components\n",
      "  warnings.warn(\n"
     ]
    },
    {
     "name": "stdout",
     "output_type": "stream",
     "text": [
      "Running on local URL:  http://127.0.0.1:7864\n",
      "Running on public URL: https://ef7eace2e3fb4972e8.gradio.live\n",
      "\n",
      "This share link expires in 72 hours. For free permanent hosting and GPU upgrades (NEW!), check out Spaces: https://huggingface.co/spaces\n"
     ]
    },
    {
     "name": "stderr",
     "output_type": "stream",
     "text": [
      "Unable to connect to VS Code server: Error in request.\n",
      "Error: connect ENOENT /run/user/434653/vscode-ipc-7210d331-4eb9-4f56-ad8a-032b9fb57c08.sock\n",
      "    at PipeConnectWrap.afterConnect [as oncomplete] (node:net:1157:16) {\n",
      "  errno: -2,\n",
      "  code: 'ENOENT',\n",
      "  syscall: 'connect',\n",
      "  address: '/run/user/434653/vscode-ipc-7210d331-4eb9-4f56-ad8a-032b9fb57c08.sock'\n",
      "}\n"
     ]
    },
    {
     "data": {
      "text/html": [
       "<div><iframe src=\"https://ef7eace2e3fb4972e8.gradio.live\" width=\"100%\" height=\"500\" allow=\"autoplay; camera; microphone; clipboard-read; clipboard-write;\" frameborder=\"0\" allowfullscreen></iframe></div>"
      ],
      "text/plain": [
       "<IPython.core.display.HTML object>"
      ]
     },
     "metadata": {},
     "output_type": "display_data"
    }
   ],
   "source": [
    "class MyInterface(gr.Interface):\n",
    "    def __init__(self):\n",
    "        gr.Interface.__init__(\n",
    "            self,\n",
    "            process,\n",
    "            title='Factual Claim Extraction',\n",
    "            description=\"This is a prototype CEDMO application to extract factual claims from an arbitrary text.\",\n",
    "            inputs=[\n",
    "                gr.inputs.Textbox(lines=5, label=\"Text to extract\"),\n",
    "                gr.inputs.Radio(list(summarizers.keys()), label=\"Model\", default=\"🇨🇿 MBart\"),\n",
    "                gr.Slider(1, 10, step=1, label=\"Number of claims\"),\n",
    "                gr.Slider(1, 100, 10, step=1, label=\"Amount of randomness\"),\n",
    "                gr.Slider(1, 100, 10, step=1, label=\"Min length (# tokens)\"),\n",
    "                gr.Slider(1, 100, 40, step=1, label=\"Max length (# tokens)\"),\n",
    "            ],\n",
    "            outputs=[gr.components.JSON(label=\"Claims\")],\n",
    "            theme=gr.themes.Soft(\n",
    "                primary_hue=\"yellow\"\n",
    "            ),\n",
    "        )\n",
    "    \n",
    "    def render_title_description(self) -> None:\n",
    "        if self.title:\n",
    "            gr.Markdown(\n",
    "                \"<h1 style='text-align: left; margin-bottom: .5rem;color:#3c3950'>\"\n",
    "                + '<img src=\"https://cedmohub.eu/wp-content/uploads/thegem-logos/logo_97ce70140f90745805929b382597e9b5_2x.png\" style=\"height: 2.5rem; margin-right: 1.5rem; vertical-align: middle; float:left;\"/>'\n",
    "                + self.title\n",
    "                + \"</h1>\"\n",
    "            )\n",
    "        if self.description:\n",
    "            gr.Markdown(self.description)\n",
    "    \n",
    "\n",
    "\n",
    "demo = MyInterface()\n",
    "\n",
    "if __name__ == \"__main__\":\n",
    "    demo.launch(share=True, inbrowser=True)\n"
   ]
  }
 ],
 "metadata": {
  "kernelspec": {
   "display_name": "Python 3 (ipykernel)",
   "language": "python",
   "name": "python3"
  },
  "language_info": {
   "codemirror_mode": {
    "name": "ipython",
    "version": 3
   },
   "file_extension": ".py",
   "mimetype": "text/x-python",
   "name": "python",
   "nbconvert_exporter": "python",
   "pygments_lexer": "ipython3",
   "version": "3.10.4"
  },
  "orig_nbformat": 4
 },
 "nbformat": 4,
 "nbformat_minor": 2
}
